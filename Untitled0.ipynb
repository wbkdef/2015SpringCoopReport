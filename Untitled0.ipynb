{
 "metadata": {
  "name": "",
  "signature": "sha256:c0cb91699ec5cc6c63c7772460d4039fc68876559f8df0c7b0cf6f00576e0483"
 },
 "nbformat": 3,
 "nbformat_minor": 0,
 "worksheets": [
  {
   "cells": [
    {
     "cell_type": "markdown",
     "metadata": {},
     "source": [
      "#Example TDD\n",
      "\n",
      "##Section 1"
     ]
    },
    {
     "cell_type": "code",
     "collapsed": false,
     "input": [
      "class Widget(object):pass\n",
      "class SubWidget(Widget):pass"
     ],
     "language": "python",
     "metadata": {},
     "outputs": [],
     "prompt_number": 1
    }
   ],
   "metadata": {}
  }
 ]
}